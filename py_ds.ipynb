{
  "cells": [
    {
      "cell_type": "markdown",
      "source": [
        "# Python Basics"
      ],
      "metadata": {
        "id": "hl-ASgjnjLn8"
      }
    },
    {
      "cell_type": "markdown",
      "source": [],
      "metadata": {
        "id": "-0HRPNnru9Lq"
      }
    },
    {
      "cell_type": "markdown",
      "source": [
        "1. What are data structures, and why are they important?\n",
        "Data structures are organized formats to store, manage, and organize data in a way that enables efficient access and modification. They are crucial for optimizing performance, enhancing computational efficiency, and facilitating problem-solving in software development. Examples include arrays, linked lists, stacks, queues, trees, and graphs."
      ],
      "metadata": {
        "id": "Gzpyq6GBu-gb"
      }
    },
    {
      "cell_type": "code",
      "source": [
        "'''2. Explain the difference between mutable and immutable data types with examples.\n",
        "Mutable: Can be changed after creation (e.g., lists, dictionaries).\n",
        "\n",
        "Immutable: Cannot be changed after creation (e.g., tuples, strings)'''\n",
        "\n",
        "#example of mutable\n",
        "lst = [1, 2, 3]\n",
        "lst[0] = 10\n",
        "print(lst)\n",
        "#exampke of immutable\n",
        "string = \"hello\"\n",
        "string[0] = \"H\"\n",
        "print(string)"
      ],
      "metadata": {
        "colab": {
          "base_uri": "https://localhost:8080/"
        },
        "id": "cAGqUYABvzk1",
        "outputId": "d95de409-b2f4-4a6b-9e59-f354d6e052c9"
      },
      "execution_count": null,
      "outputs": [
        {
          "output_type": "stream",
          "name": "stdout",
          "text": [
            "[10, 2, 3]\n"
          ]
        }
      ]
    },
    {
      "cell_type": "markdown",
      "source": [
        "3.What are the main differences between lists and tuples in Python?\n",
        "Ams. Lists are mutable while Tuples are immutable.The more differences between the lists and tuples are below-\n",
        "Lists:  1. Lists are mutable\n",
        "2. The implication of iterations is Time-consuming\n",
        "3. The list is better for performing operations, such as insertion and deletion.\n",
        "4.Lists consume more memory\n",
        "Tuples: 1. Tuples are immutable\n",
        "2.The implication of iterations is comparatively Faster\n",
        "3.A Tuple data type is appropriate for accessing the elements\n",
        "4. Tuple consumes less memory as compared to the list"
      ],
      "metadata": {
        "id": "GDCZ2K2txXKo"
      }
    },
    {
      "cell_type": "markdown",
      "source": [
        "4. Describe how dictionaries store data.\n",
        "Ans. Dictionaries store data in key-value pairs using a hashing mechanism, allowing for quick access to values based on their keys."
      ],
      "metadata": {
        "id": "RT403uTSy2zi"
      }
    },
    {
      "cell_type": "markdown",
      "source": [
        "4.How dictionaries store data:\n",
        "Ans. Dictionaries store data in key-value pairs using a hashing mechanism, allowing for quick access to values based on their keys."
      ],
      "metadata": {
        "id": "EftwDNci8xme"
      }
    },
    {
      "cell_type": "markdown",
      "source": [
        "5.Why might you use a set instead of a list in Python?\n",
        "Ans. Sets automatically remove duplicates and allow fast membership testing (O(1) complexity).\n",
        "\n",
        "\n",
        "\n",
        "6. What is a string in Python, and how is it different from a list?\n",
        "Ans. A string is a sequence of characters, immutable, and used for textual data. A list is mutable, can contain mixed data types, and is used for various data manipulations.\n",
        "\n",
        "\n",
        "\n",
        "7.How tuples ensure data integrity in Python:\n",
        "Ans. Tuples are immutable, preventing accidental changes, which ensures the data remains constant.\n",
        "\n",
        "\n",
        "\n",
        "8.What is a hash table, and how does it relate to dictionaries in Python?\n",
        "Ans. A hash table is a data structure that maps keys to values using a hash function. Python dictionaries are implemented as hash tables.\n",
        "\n",
        "\n",
        "\n",
        "9.Can lists contain different data types in Python?\n",
        "Ans.Yes, lists in Python can store elements of multiple data types.\n",
        "\n",
        "\n",
        "\n",
        "10.Why are strings immutable in Python?\n",
        "Ans.Strings are immutable to optimize memory usage and performance and ensure thread safety.\n",
        "\n",
        "\n",
        "\n",
        "11.Advantages of dictionaries over lists:\n",
        "Ans. 1)Fast lookups (O(1) complexity).\n",
        "2) Keys allow better contextual representation of data.\n",
        "\n",
        "\n",
        "\n",
        "12.Scenario where tuples are preferable over lists:\n",
        "Ans. Tuples are used where data is constant or serves as a hashable key in dictionaries. Example: Storing geographic coordinates (latitude, longitude).\n",
        "\n",
        "\n",
        "\n",
        "13.How sets handle duplicate values in Python:\n",
        "Ans. Automatically removes duplicates.\n",
        "Excample: my_set = {1, 2, 2, 3}\n",
        "print(my_set)\n",
        "\n",
        "\n",
        "\n",
        "14.How \"in\" works for lists vs. dictionaries:\n",
        "Ans. Lists: Checks if the value exists.\n",
        "Dictionaries: Checks if the key exists.\n",
        "Example: my_list = [1, 2, 3]\n",
        "my_dict = {'a': 1, 'b': 2}\n",
        "print(2 in my_list)\n",
        "print('b' in my_dict)  \n",
        "\n"
      ],
      "metadata": {
        "id": "TWDkn1VY85A1"
      }
    },
    {
      "cell_type": "markdown",
      "source": [
        "15.Can you modify the elements of a tuple? Explain why or why not?\n",
        "Ans. No, tuples are immutable. If modification is required, convert to a list.\n",
        "Example:tup = (1, 2, 3)\n",
        "lst = list(tup)\n",
        "lst[0] = 10\n",
        "tup = tuple(lst)\n",
        "\n",
        "16. What is a nested dictionary, and give an example of its use case?\n",
        "Ans. A nested dictionary is a dictionary within a dictionary. Example-\n",
        "students = {\n",
        "    \"John\": {\"age\": 20, \"grade\": \"A\"},\n",
        "    \"Jane\": {\"age\": 22, \"grade\": \"B\"}\n",
        "}\n",
        "print(students[\"John\"][\"age\"])\n",
        "\n",
        "17. Describe the time complexity of accessing elements in a dictionary.\n",
        "Ans. O(1) average-case complexity due to hash functions.\n",
        "\n",
        "18. In what situations are lists preferred over dictionaries?\n",
        "Ans. 1)When order matters.\n",
        "2)When duplicates are necessary.\n",
        "\n",
        "19. Why are dictionaries considered unordered, and how does that affect data retrieval?\n",
        "Ans. They rely on hashing for quick lookups, not order.\n",
        "Retrieval is based on key hashes.\n",
        "\n",
        "20.Explain the difference between a list and a dictionary in terms of data retrieval.\n",
        "Ans. Lists: Sequential using indices.\n",
        "Dictionaries: Direct using keys."
      ],
      "metadata": {
        "id": "Id0mnu6aAFAS"
      }
    },
    {
      "cell_type": "code",
      "source": [
        "#1. Write a code to create a string with your name and print it.\n",
        "\n",
        "name = \"Aaditya Mittal\"\n",
        "print(name)"
      ],
      "metadata": {
        "colab": {
          "base_uri": "https://localhost:8080/"
        },
        "id": "6vkRHySaC0D5",
        "outputId": "d477ab47-d2c4-4e65-97c8-0826b182818b"
      },
      "execution_count": 31,
      "outputs": [
        {
          "output_type": "stream",
          "name": "stdout",
          "text": [
            "Aaditya Mittal\n"
          ]
        }
      ]
    },
    {
      "cell_type": "code",
      "source": [
        "#2. Write a code to find the length of the string \"Hello World\".\n",
        "\n",
        "string = \"Hello World\"\n",
        "print(len(string))"
      ],
      "metadata": {
        "colab": {
          "base_uri": "https://localhost:8080/"
        },
        "id": "_XaQJvAPC1pu",
        "outputId": "c40bfaf9-60fc-4cc3-9128-c41e718ed36f"
      },
      "execution_count": 32,
      "outputs": [
        {
          "output_type": "stream",
          "name": "stdout",
          "text": [
            "11\n"
          ]
        }
      ]
    },
    {
      "cell_type": "code",
      "source": [
        "# 3. Write a code to slice the first 3 characters from the string \"Python Programming\".\n",
        "\n",
        "string = \"Python Programming\"\n",
        "sliced = string[:3]\n",
        "print(sliced)"
      ],
      "metadata": {
        "colab": {
          "base_uri": "https://localhost:8080/"
        },
        "id": "7tMJywhOC1sF",
        "outputId": "1c2ceef6-8053-4c93-823a-dbc21ad210b7"
      },
      "execution_count": 33,
      "outputs": [
        {
          "output_type": "stream",
          "name": "stdout",
          "text": [
            "Pyt\n"
          ]
        }
      ]
    },
    {
      "cell_type": "code",
      "source": [
        "# 4. Write a code to convert the string \"hello\" to uppercase.\n",
        "string = \"hello\"\n",
        "uppercase = string.upper()\n",
        "print(uppercase)\n"
      ],
      "metadata": {
        "colab": {
          "base_uri": "https://localhost:8080/"
        },
        "id": "fszUNa6yC1ua",
        "outputId": "26ff3208-aa40-40b7-dc8e-ad2110d325c4"
      },
      "execution_count": 34,
      "outputs": [
        {
          "output_type": "stream",
          "name": "stdout",
          "text": [
            "HELLO\n"
          ]
        }
      ]
    },
    {
      "cell_type": "code",
      "source": [
        "# 5. Write a code to replace the word \"apple\" with \"orange\" in the string \"I like apple\".\n",
        "string = \"I like apple\"\n",
        "modified = string.replace(\"apple\", \"orange\")\n",
        "print(modified)"
      ],
      "metadata": {
        "colab": {
          "base_uri": "https://localhost:8080/"
        },
        "id": "72l3NK0EC1xc",
        "outputId": "0195eff9-5c6e-42bd-977b-45bf9c243d87"
      },
      "execution_count": 35,
      "outputs": [
        {
          "output_type": "stream",
          "name": "stdout",
          "text": [
            "I like orange\n"
          ]
        }
      ]
    },
    {
      "cell_type": "code",
      "source": [
        "# 6. Write a code to create a list with numbers 1 to 5 and print it.\n",
        "numbers = [1, 2, 3, 4, 5]\n",
        "print(numbers)\n"
      ],
      "metadata": {
        "colab": {
          "base_uri": "https://localhost:8080/"
        },
        "id": "U-gJ9izNC10A",
        "outputId": "a41660e0-fced-4ed4-8885-b946462a4aba"
      },
      "execution_count": 36,
      "outputs": [
        {
          "output_type": "stream",
          "name": "stdout",
          "text": [
            "[1, 2, 3, 4, 5]\n"
          ]
        }
      ]
    },
    {
      "cell_type": "code",
      "source": [
        "# 7. Write a code to append the number 10 to the list [1, 2, 3, 4].\n",
        "numbers = [1, 2, 3, 4]\n",
        "numbers.append(10)\n",
        "print(numbers)"
      ],
      "metadata": {
        "colab": {
          "base_uri": "https://localhost:8080/"
        },
        "id": "wMfSx3jZC12-",
        "outputId": "9819736d-e4ef-46e6-89f4-19d4c9719536"
      },
      "execution_count": 37,
      "outputs": [
        {
          "output_type": "stream",
          "name": "stdout",
          "text": [
            "[1, 2, 3, 4, 10]\n"
          ]
        }
      ]
    },
    {
      "cell_type": "code",
      "source": [
        "# 8. Write a code to remove the number 3 from the list [1, 2, 3, 4, 5].\n",
        "numbers = [1, 2, 3, 4, 5]\n",
        "numbers.remove(3)\n",
        "print(numbers)"
      ],
      "metadata": {
        "colab": {
          "base_uri": "https://localhost:8080/"
        },
        "id": "BGwklBZzC144",
        "outputId": "e8f9a8dc-fcfc-45ab-8850-7844bac85827"
      },
      "execution_count": 38,
      "outputs": [
        {
          "output_type": "stream",
          "name": "stdout",
          "text": [
            "[1, 2, 4, 5]\n"
          ]
        }
      ]
    },
    {
      "cell_type": "code",
      "source": [
        "# 9. Write a code to access the second element in the list ['a', 'b', 'c', 'd'].\n",
        "items = ['a', 'b', 'c', 'd']\n",
        "print(items[1])"
      ],
      "metadata": {
        "colab": {
          "base_uri": "https://localhost:8080/"
        },
        "id": "TiVOjy6eC17V",
        "outputId": "4a21cbbf-e882-491a-c6d4-1e287f52554a"
      },
      "execution_count": 39,
      "outputs": [
        {
          "output_type": "stream",
          "name": "stdout",
          "text": [
            "b\n"
          ]
        }
      ]
    },
    {
      "cell_type": "code",
      "source": [
        "#10. Write a code to reverse the list [10, 20, 30, 40, 50].\n",
        "numbers = [10, 20, 30, 40, 50]\n",
        "numbers.reverse()\n",
        "print(numbers)"
      ],
      "metadata": {
        "colab": {
          "base_uri": "https://localhost:8080/"
        },
        "id": "KU6u_xJgC19s",
        "outputId": "c9d7b619-347e-4edf-82bd-56b2f94a9eb5"
      },
      "execution_count": 40,
      "outputs": [
        {
          "output_type": "stream",
          "name": "stdout",
          "text": [
            "[50, 40, 30, 20, 10]\n"
          ]
        }
      ]
    },
    {
      "cell_type": "code",
      "source": [
        "#11. Write a code to create a tuple with the elements 10, 20, 30 and print it.\n",
        "my_tuple = (10, 20, 30)\n",
        "print(my_tuple)"
      ],
      "metadata": {
        "colab": {
          "base_uri": "https://localhost:8080/"
        },
        "id": "jfjsRvHqC2AW",
        "outputId": "dc700cf6-2b38-4f76-ac50-fc4bc25f6c69"
      },
      "execution_count": 41,
      "outputs": [
        {
          "output_type": "stream",
          "name": "stdout",
          "text": [
            "(10, 20, 30)\n"
          ]
        }
      ]
    },
    {
      "cell_type": "code",
      "source": [
        "# 12. Write a code to access the first element of the tuple ('apple', 'banana', 'cherry').\n",
        "fruits = ('apple', 'banana', 'cherry')\n",
        "print(fruits[0])"
      ],
      "metadata": {
        "colab": {
          "base_uri": "https://localhost:8080/"
        },
        "id": "oKlPMfnbFSEV",
        "outputId": "e1ce660a-cc47-4bbe-a09e-8a374a3a006a"
      },
      "execution_count": 42,
      "outputs": [
        {
          "output_type": "stream",
          "name": "stdout",
          "text": [
            "apple\n"
          ]
        }
      ]
    },
    {
      "cell_type": "code",
      "source": [
        "# 13. Write a code to count how many times the number 2 appears in the tuple (1, 2, 3, 2, 4, 2).\n",
        "numbers = (1, 2, 3, 2, 4, 2)\n",
        "count = numbers.count(2)\n",
        "print(count)"
      ],
      "metadata": {
        "colab": {
          "base_uri": "https://localhost:8080/"
        },
        "id": "DWiZG5mQC2Cy",
        "outputId": "c9ffa748-39f6-4424-a263-e5d897718e80"
      },
      "execution_count": 43,
      "outputs": [
        {
          "output_type": "stream",
          "name": "stdout",
          "text": [
            "3\n"
          ]
        }
      ]
    },
    {
      "cell_type": "code",
      "source": [
        "# 14. Write a code to find the index of the element \"cat\" in the tuple ('dog', 'cat', 'rabbit').\n",
        "animals = ('dog', 'cat', 'rabbit')\n",
        "index = animals.index('cat')\n",
        "print(index)"
      ],
      "metadata": {
        "colab": {
          "base_uri": "https://localhost:8080/"
        },
        "id": "GsB1pLBiC2FR",
        "outputId": "3b36bc99-eeab-4357-a6a2-f2f401de3a1e"
      },
      "execution_count": 44,
      "outputs": [
        {
          "output_type": "stream",
          "name": "stdout",
          "text": [
            "1\n"
          ]
        }
      ]
    },
    {
      "cell_type": "code",
      "source": [
        "# 15. Write a code to check if the element \"banana\" is in the tuple ('apple', 'orange', 'banana'):\n",
        "fruits = ('apple', 'orange', 'banana')\n",
        "is_present = \"banana\" in fruits\n",
        "print(is_present)"
      ],
      "metadata": {
        "colab": {
          "base_uri": "https://localhost:8080/"
        },
        "id": "zuwhqNLlC2Kj",
        "outputId": "4b4ceb53-812f-4718-8d40-10f5a774358d"
      },
      "execution_count": 45,
      "outputs": [
        {
          "output_type": "stream",
          "name": "stdout",
          "text": [
            "True\n"
          ]
        }
      ]
    },
    {
      "cell_type": "code",
      "source": [
        "#16. Write a code to create a set with the elements 1, 2, 3, 4, 5 and print it.\n",
        "my_set = {1, 2, 3, 4, 5}\n",
        "print(my_set)"
      ],
      "metadata": {
        "colab": {
          "base_uri": "https://localhost:8080/"
        },
        "id": "R724z4FvC2NU",
        "outputId": "72336d2e-3cfb-43b7-e5b7-5400236ff4b3"
      },
      "execution_count": 46,
      "outputs": [
        {
          "output_type": "stream",
          "name": "stdout",
          "text": [
            "{1, 2, 3, 4, 5}\n"
          ]
        }
      ]
    },
    {
      "cell_type": "code",
      "source": [
        "# 17. Write a code to add the element 6 to the set {1, 2, 3, 4}.\n",
        "my_set = {1, 2, 3, 4}\n",
        "my_set.add(6)\n",
        "print(my_set)"
      ],
      "metadata": {
        "colab": {
          "base_uri": "https://localhost:8080/"
        },
        "id": "ho4uPlXuFnFU",
        "outputId": "298447bb-da49-47e6-bed6-a7282d02d2f9"
      },
      "execution_count": 47,
      "outputs": [
        {
          "output_type": "stream",
          "name": "stdout",
          "text": [
            "{1, 2, 3, 4, 6}\n"
          ]
        }
      ]
    },
    {
      "cell_type": "code",
      "source": [
        "#18. Write a code to create a tuple with the elements 10, 20, 30 and print it.\n",
        "my_tuple = (10, 20, 30)\n",
        "print(my_tuple)"
      ],
      "metadata": {
        "colab": {
          "base_uri": "https://localhost:8080/"
        },
        "id": "mBiAMzZfFnH7",
        "outputId": "4ef0b2a8-cfc7-4e8e-c870-79003c33c2d7"
      },
      "execution_count": 48,
      "outputs": [
        {
          "output_type": "stream",
          "name": "stdout",
          "text": [
            "(10, 20, 30)\n"
          ]
        }
      ]
    },
    {
      "cell_type": "code",
      "source": [
        "#19. Write a code to access the first element of the tuple ('apple', 'banana', 'cherry').\n",
        "fruits = ('apple', 'banana', 'cherry')\n",
        "print(fruits[0])"
      ],
      "metadata": {
        "colab": {
          "base_uri": "https://localhost:8080/"
        },
        "id": "6QNjXiDFFnKi",
        "outputId": "55cf4c7c-2c98-4521-e68f-c9f517f1f6cb"
      },
      "execution_count": 49,
      "outputs": [
        {
          "output_type": "stream",
          "name": "stdout",
          "text": [
            "apple\n"
          ]
        }
      ]
    },
    {
      "cell_type": "code",
      "source": [
        "#20. Write a code to count how many times the number 2 appears in the tuple (1, 2, 3, 2, 4, 2):\n",
        "numbers = (1, 2, 3, 2, 4, 2)\n",
        "count = numbers.count(2)\n",
        "print(count)"
      ],
      "metadata": {
        "colab": {
          "base_uri": "https://localhost:8080/"
        },
        "id": "64D8MVl3FnR1",
        "outputId": "437d717e-29ee-45d0-e249-4642ebb67323"
      },
      "execution_count": 50,
      "outputs": [
        {
          "output_type": "stream",
          "name": "stdout",
          "text": [
            "3\n"
          ]
        }
      ]
    },
    {
      "cell_type": "code",
      "source": [
        "#21. Write a code to find the index of the element \"cat\" in the tuple ('dog', 'cat', 'rabbit').\n",
        "animals = ('dog', 'cat', 'rabbit')\n",
        "index = animals.index('cat')\n",
        "print(index)"
      ],
      "metadata": {
        "colab": {
          "base_uri": "https://localhost:8080/"
        },
        "id": "8RlxhCs9Fns0",
        "outputId": "ec357ab0-e83d-49a4-9c74-4e62ca1af54c"
      },
      "execution_count": 51,
      "outputs": [
        {
          "output_type": "stream",
          "name": "stdout",
          "text": [
            "1\n"
          ]
        }
      ]
    },
    {
      "cell_type": "code",
      "source": [
        "# 22. Write a code to check if the element \"banana\" is in the tuple ('apple', 'orange', 'banana')\n",
        "\n",
        "fruits = ('apple', 'orange', 'banana')\n",
        "is_present = 'banana' in fruits\n",
        "print(is_present)"
      ],
      "metadata": {
        "colab": {
          "base_uri": "https://localhost:8080/"
        },
        "id": "SOLO34tMCLvB",
        "outputId": "30a301e6-6958-4866-a87c-c245d66b03d3"
      },
      "execution_count": 52,
      "outputs": [
        {
          "output_type": "stream",
          "name": "stdout",
          "text": [
            "True\n"
          ]
        }
      ]
    },
    {
      "cell_type": "code",
      "source": [
        "# 23. Write a code to create a set with the elements 1, 2, 3, 4, 5 and print it.\n",
        "my_set = {1, 2, 3, 4, 5}\n",
        "print(my_set)"
      ],
      "metadata": {
        "colab": {
          "base_uri": "https://localhost:8080/"
        },
        "id": "oiq9fN7NCZIe",
        "outputId": "2419e23a-7866-4224-8277-5e1104c644b6"
      },
      "execution_count": 53,
      "outputs": [
        {
          "output_type": "stream",
          "name": "stdout",
          "text": [
            "{1, 2, 3, 4, 5}\n"
          ]
        }
      ]
    },
    {
      "cell_type": "code",
      "source": [
        "#24. Write a code to add the element 6 to the set {1, 2, 3, 4}.\n",
        "my_set = {1, 2, 3, 4}\n",
        "my_set.add(6)\n",
        "print(my_set)"
      ],
      "metadata": {
        "colab": {
          "base_uri": "https://localhost:8080/"
        },
        "id": "4vYOjO8nGjWb",
        "outputId": "2e2cd904-c97e-4265-abd0-e8559110d26c"
      },
      "execution_count": 54,
      "outputs": [
        {
          "output_type": "stream",
          "name": "stdout",
          "text": [
            "{1, 2, 3, 4, 6}\n"
          ]
        }
      ]
    }
  ],
  "metadata": {
    "colab": {
      "provenance": []
    },
    "kernelspec": {
      "display_name": "Python 3",
      "name": "python3"
    },
    "language_info": {
      "name": "python"
    }
  },
  "nbformat": 4,
  "nbformat_minor": 0
}